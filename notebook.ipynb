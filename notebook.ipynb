{
 "cells": [
  {
   "cell_type": "markdown",
   "metadata": {
    "collapsed": true
   },
   "source": [
    "# MARATÓN BEHIND THE CODE 2020\n",
    "\n",
    "## DESAFÍO 2: TORTUGA CODE\n",
    "### Solucion de Luis Marquez, Notebook demostrativo"
   ]
  },
  {
   "cell_type": "markdown",
   "metadata": {},
   "source": [
    "### Introducción"
   ]
  },
  {
   "cell_type": "markdown",
   "metadata": {},
   "source": [
    "Este notebook está basado en el codigo original puesto a disposición por los organizadores de la Maraton, \n",
    "y luego sobre él están todas las modificaciones y comentarios personales referentes a mi solucion particular,\n",
    "utilicé tanto conocimientos previos como codigo que conseguí en varias paginas principalmente StackOverflow"
   ]
  },
  {
   "cell_type": "markdown",
   "metadata": {},
   "source": [
    "En proyectos de ciencia de datos destinados a construir modelos de *aprendizaje automático*, o aprendizaje estadístico, es muy inusual que los datos iniciales ya estén en el formato ideal para la construcción de modelos. Se requieren varios pasos intermedios de preprocesamiento de datos, como la codificación de variables categóricas, normalización de variables numéricas, tratamiento de datos faltantes, etc. La biblioteca **scikit-learn**, una de las bibliotecas de código abierto más populares para *aprendizaje automático* en el mundo, ya tiene varias funciones integradas para realizar las transformaciones de datos más utilizadas. Sin embargo, en un flujo común de un modelo de aprendizaje automático, es necesario aplicar estas transformaciones al menos dos veces: la primera vez para \"entrenar\" el modelo, y luego nuevamente cuando se envían nuevos datos como entrada para ser clasificados por este modelo.\n"
   ]
  },
  {
   "cell_type": "markdown",
   "metadata": {},
   "source": [
    "### Trabajando scikit-learn"
   ]
  },
  {
   "cell_type": "code",
   "execution_count": 2,
   "metadata": {},
   "outputs": [
    {
     "name": "stdout",
     "output_type": "stream",
     "text": [
      "Requirement already up-to-date: scikit-learn in c:\\users\\luis marquez\\appdata\\local\\programs\\python\\python38-32\\lib\\site-packages (0.23.2)\n",
      "Requirement already satisfied, skipping upgrade: threadpoolctl>=2.0.0 in c:\\users\\luis marquez\\appdata\\local\\programs\\python\\python38-32\\lib\\site-packages (from scikit-learn) (2.1.0)\n",
      "Requirement already satisfied, skipping upgrade: numpy>=1.13.3 in c:\\users\\luis marquez\\appdata\\local\\programs\\python\\python38-32\\lib\\site-packages (from scikit-learn) (1.19.1)\n",
      "Requirement already satisfied, skipping upgrade: scipy>=0.19.1 in c:\\users\\luis marquez\\appdata\\local\\programs\\python\\python38-32\\lib\\site-packages (from scikit-learn) (1.5.2)\n",
      "Requirement already satisfied, skipping upgrade: joblib>=0.11 in c:\\users\\luis marquez\\appdata\\local\\programs\\python\\python38-32\\lib\\site-packages (from scikit-learn) (0.16.0)\n"
     ]
    },
    {
     "name": "stderr",
     "output_type": "stream",
     "text": [
      "WARNING: You are using pip version 20.2.2; however, version 20.2.3 is available.\n",
      "You should consider upgrading via the 'c:\\users\\luis marquez\\appdata\\local\\programs\\python\\python38-32\\python.exe -m pip install --upgrade pip' command.\n"
     ]
    }
   ],
   "source": [
    "# Primero, realizamos la instalación de scikit-learn \n",
    "!pip install scikit-learn --upgrade"
   ]
  },
  {
   "cell_type": "code",
   "execution_count": 3,
   "metadata": {},
   "outputs": [],
   "source": [
    "#importamos todas las librerias que vamos a utilizar\n",
    "import requests\n",
    "import pandas as pd\n",
    "import numpy as np\n",
    "from scipy import stats\n",
    "from sklearn import preprocessing\n",
    "from sklearn.impute import SimpleImputer\n",
    "from sklearn.model_selection import train_test_split\n",
    "from sklearn.pipeline import Pipeline\n",
    "import matplotlib.pyplot as plt\n",
    "import seaborn as sns\n",
    "import urllib.request\n",
    "from sklearn.base import BaseEstimator, TransformerMixin\n",
    "from sklearn.ensemble import IsolationForest\n",
    "from sklearn.preprocessing import RobustScaler\n",
    "from collections import Counter"
   ]
  },
  {
   "cell_type": "markdown",
   "metadata": {},
   "source": [
    "### Importar  un .csv al proyecto"
   ]
  },
  {
   "cell_type": "code",
   "execution_count": 4,
   "metadata": {},
   "outputs": [
    {
     "data": {
      "text/html": [
       "<div>\n",
       "<style scoped>\n",
       "    .dataframe tbody tr th:only-of-type {\n",
       "        vertical-align: middle;\n",
       "    }\n",
       "\n",
       "    .dataframe tbody tr th {\n",
       "        vertical-align: top;\n",
       "    }\n",
       "\n",
       "    .dataframe thead th {\n",
       "        text-align: right;\n",
       "    }\n",
       "</style>\n",
       "<table border=\"1\" class=\"dataframe\">\n",
       "  <thead>\n",
       "    <tr style=\"text-align: right;\">\n",
       "      <th></th>\n",
       "      <th>Unnamed: 0</th>\n",
       "      <th>NAME</th>\n",
       "      <th>USER_ID</th>\n",
       "      <th>HOURS_DATASCIENCE</th>\n",
       "      <th>HOURS_BACKEND</th>\n",
       "      <th>HOURS_FRONTEND</th>\n",
       "      <th>NUM_COURSES_BEGINNER_DATASCIENCE</th>\n",
       "      <th>NUM_COURSES_BEGINNER_BACKEND</th>\n",
       "      <th>NUM_COURSES_BEGINNER_FRONTEND</th>\n",
       "      <th>NUM_COURSES_ADVANCED_DATASCIENCE</th>\n",
       "      <th>NUM_COURSES_ADVANCED_BACKEND</th>\n",
       "      <th>NUM_COURSES_ADVANCED_FRONTEND</th>\n",
       "      <th>AVG_SCORE_DATASCIENCE</th>\n",
       "      <th>AVG_SCORE_BACKEND</th>\n",
       "      <th>AVG_SCORE_FRONTEND</th>\n",
       "      <th>PROFILE</th>\n",
       "    </tr>\n",
       "  </thead>\n",
       "  <tbody>\n",
       "    <tr>\n",
       "      <th>19995</th>\n",
       "      <td>20495</td>\n",
       "      <td>Rose Jurado</td>\n",
       "      <td>66754730</td>\n",
       "      <td>0.0</td>\n",
       "      <td>44.0</td>\n",
       "      <td>42.0</td>\n",
       "      <td>8.0</td>\n",
       "      <td>4.0</td>\n",
       "      <td>7.0</td>\n",
       "      <td>3.0</td>\n",
       "      <td>3.0</td>\n",
       "      <td>3.0</td>\n",
       "      <td>74.0</td>\n",
       "      <td>73.0</td>\n",
       "      <td>93.0</td>\n",
       "      <td>advanced_backend</td>\n",
       "    </tr>\n",
       "    <tr>\n",
       "      <th>19996</th>\n",
       "      <td>20496</td>\n",
       "      <td>Johnny Jones</td>\n",
       "      <td>6874888</td>\n",
       "      <td>0.0</td>\n",
       "      <td>85.0</td>\n",
       "      <td>63.0</td>\n",
       "      <td>3.0</td>\n",
       "      <td>5.0</td>\n",
       "      <td>0.0</td>\n",
       "      <td>4.0</td>\n",
       "      <td>7.0</td>\n",
       "      <td>3.0</td>\n",
       "      <td>50.0</td>\n",
       "      <td>83.0</td>\n",
       "      <td>94.0</td>\n",
       "      <td>advanced_front_end</td>\n",
       "    </tr>\n",
       "    <tr>\n",
       "      <th>19997</th>\n",
       "      <td>20497</td>\n",
       "      <td>Lawrence Givens</td>\n",
       "      <td>83752787</td>\n",
       "      <td>32.0</td>\n",
       "      <td>50.0</td>\n",
       "      <td>22.0</td>\n",
       "      <td>0.0</td>\n",
       "      <td>4.0</td>\n",
       "      <td>0.0</td>\n",
       "      <td>6.0</td>\n",
       "      <td>2.0</td>\n",
       "      <td>3.0</td>\n",
       "      <td>61.0</td>\n",
       "      <td>81.0</td>\n",
       "      <td>75.0</td>\n",
       "      <td>advanced_backend</td>\n",
       "    </tr>\n",
       "    <tr>\n",
       "      <th>19998</th>\n",
       "      <td>20498</td>\n",
       "      <td>Betty Diclaudio</td>\n",
       "      <td>45806698</td>\n",
       "      <td>0.0</td>\n",
       "      <td>96.0</td>\n",
       "      <td>69.0</td>\n",
       "      <td>3.0</td>\n",
       "      <td>3.0</td>\n",
       "      <td>3.0</td>\n",
       "      <td>5.0</td>\n",
       "      <td>7.0</td>\n",
       "      <td>4.0</td>\n",
       "      <td>64.0</td>\n",
       "      <td>68.0</td>\n",
       "      <td>68.0</td>\n",
       "      <td>advanced_front_end</td>\n",
       "    </tr>\n",
       "    <tr>\n",
       "      <th>19999</th>\n",
       "      <td>20499</td>\n",
       "      <td>Connie Harper</td>\n",
       "      <td>67068866</td>\n",
       "      <td>51.0</td>\n",
       "      <td>24.0</td>\n",
       "      <td>36.0</td>\n",
       "      <td>4.0</td>\n",
       "      <td>2.0</td>\n",
       "      <td>7.0</td>\n",
       "      <td>0.0</td>\n",
       "      <td>0.0</td>\n",
       "      <td>2.0</td>\n",
       "      <td>63.0</td>\n",
       "      <td>61.0</td>\n",
       "      <td>87.0</td>\n",
       "      <td>advanced_data_science</td>\n",
       "    </tr>\n",
       "  </tbody>\n",
       "</table>\n",
       "</div>"
      ],
      "text/plain": [
       "       Unnamed: 0             NAME   USER_ID  HOURS_DATASCIENCE  \\\n",
       "19995       20495      Rose Jurado  66754730                0.0   \n",
       "19996       20496     Johnny Jones   6874888                0.0   \n",
       "19997       20497  Lawrence Givens  83752787               32.0   \n",
       "19998       20498  Betty Diclaudio  45806698                0.0   \n",
       "19999       20499    Connie Harper  67068866               51.0   \n",
       "\n",
       "       HOURS_BACKEND  HOURS_FRONTEND  NUM_COURSES_BEGINNER_DATASCIENCE  \\\n",
       "19995           44.0            42.0                               8.0   \n",
       "19996           85.0            63.0                               3.0   \n",
       "19997           50.0            22.0                               0.0   \n",
       "19998           96.0            69.0                               3.0   \n",
       "19999           24.0            36.0                               4.0   \n",
       "\n",
       "       NUM_COURSES_BEGINNER_BACKEND  NUM_COURSES_BEGINNER_FRONTEND  \\\n",
       "19995                           4.0                            7.0   \n",
       "19996                           5.0                            0.0   \n",
       "19997                           4.0                            0.0   \n",
       "19998                           3.0                            3.0   \n",
       "19999                           2.0                            7.0   \n",
       "\n",
       "       NUM_COURSES_ADVANCED_DATASCIENCE  NUM_COURSES_ADVANCED_BACKEND  \\\n",
       "19995                               3.0                           3.0   \n",
       "19996                               4.0                           7.0   \n",
       "19997                               6.0                           2.0   \n",
       "19998                               5.0                           7.0   \n",
       "19999                               0.0                           0.0   \n",
       "\n",
       "       NUM_COURSES_ADVANCED_FRONTEND  AVG_SCORE_DATASCIENCE  \\\n",
       "19995                            3.0                   74.0   \n",
       "19996                            3.0                   50.0   \n",
       "19997                            3.0                   61.0   \n",
       "19998                            4.0                   64.0   \n",
       "19999                            2.0                   63.0   \n",
       "\n",
       "       AVG_SCORE_BACKEND  AVG_SCORE_FRONTEND                PROFILE  \n",
       "19995               73.0                93.0       advanced_backend  \n",
       "19996               83.0                94.0     advanced_front_end  \n",
       "19997               81.0                75.0       advanced_backend  \n",
       "19998               68.0                68.0     advanced_front_end  \n",
       "19999               61.0                87.0  advanced_data_science  "
      ]
     },
     "execution_count": 4,
     "metadata": {},
     "output_type": "execute_result"
    }
   ],
   "source": [
    "# Primero, importaremos el conjunto de datos proporcionado para el desafío, que ya está incluido en este proyecto.\n",
    "df_training_dataset = pd.read_csv(r'dataset-tortuga-desafio-2.csv')\n",
    "df_training_dataset.tail()"
   ]
  },
  {
   "cell_type": "markdown",
   "metadata": {},
   "source": [
    "Tenemos 16 columnas presentes en el set de datos proporcionado, 15 de las cuales son variables features (datos de entrada) y una de ellas es una variable target (que queremos que nuestro modelo va a predecir).\n",
    "\n",
    "Las variables features son:\n",
    "\n",
    "    Unnamed: 0                          - Esta columna no tiene nombre y debe ser eliminada del dataset\n",
    "    NAME                                - Nombre del estudiante\n",
    "    USER_ID                             - Número de identificación del estudiante\n",
    "    HOURS_DATASCIENCE                   - Número de horas de estudio en Data Science\n",
    "    HOURS_BACKEND                       - Número de horas de estudio en Web (Back-End)\n",
    "    HOURS_FRONTEND                      - Número de horas de estudio en Web (Front-End)\n",
    "    NUM_COURSES_BEGINNER_DATASCIENCE    - Número de cursos de nivel principiante en Data Science completados por el estudiante\n",
    "    NUM_COURSES_BEGINNER_BACKEND        - Número de cursos de nivel principiante en Web (Back-End) completados por el estudiante\n",
    "    NUM_COURSES_BEGINNER_FRONTEND       - Número de cursos de nivel principiante en Web (Front-End) completados por el estudiante\n",
    "    NUM_COURSES_ADVANCED_DATASCIENCE    - Número de cursos de nivel avanzado en Data Science completados por el estudiante\n",
    "    NUM_COURSES_ADVANCED_BACKEND        - Número de cursos de nivel avanzado en Web (Back-End) completados por el estudiante\n",
    "    NUM_COURSES_ADVANCED_FRONTEND       - Número de cursos de nivel avanzado en Web (Front-End) completados por el estudiante\n",
    "    AVG_SCORE_DATASCIENCE               - Promedio acumulado en cursos de Data Science completados por el estudiante\n",
    "    AVG_SCORE_BACKEND                   - Promedio acumulado en cursos de Web (Back-End) completados por el estudiante\n",
    "    AVG_SCORE_FRONTEND                  - Promedio acumulado en cursos de Web (Front-End) completados por el estudiante\n",
    "    \n",
    "La variable target es:\n",
    "\n",
    "    PROFILE                             - Perfil de carrera del estudiante (puede ser uno de 6)\n",
    "    \n",
    "        - beginner_front_end\n",
    "        - advanced_front_end\n",
    "        - beginner_back_end\n",
    "        - advanced_back_end\n",
    "        - beginner_data_science\n",
    "        - advanced_data_science\n",
    "        \n",
    "Con un modelo capaz de clasificar a un alumno en una de estas categorías, podemos recomendar contenidos a los alumnos de forma personalizada según las necesidades de cada alumno."
   ]
  },
  {
   "cell_type": "markdown",
   "metadata": {},
   "source": [
    "### Explorando los datos proporcionados\n",
    "\n",
    "Podemos continuar la exploración de los datos proporcionados con la función ``info()``:"
   ]
  },
  {
   "cell_type": "code",
   "execution_count": 5,
   "metadata": {},
   "outputs": [
    {
     "name": "stdout",
     "output_type": "stream",
     "text": [
      "<class 'pandas.core.frame.DataFrame'>\n",
      "RangeIndex: 20000 entries, 0 to 19999\n",
      "Data columns (total 16 columns):\n",
      " #   Column                            Non-Null Count  Dtype  \n",
      "---  ------                            --------------  -----  \n",
      " 0   Unnamed: 0                        20000 non-null  int64  \n",
      " 1   NAME                              20000 non-null  object \n",
      " 2   USER_ID                           20000 non-null  int64  \n",
      " 3   HOURS_DATASCIENCE                 19986 non-null  float64\n",
      " 4   HOURS_BACKEND                     19947 non-null  float64\n",
      " 5   HOURS_FRONTEND                    19984 non-null  float64\n",
      " 6   NUM_COURSES_BEGINNER_DATASCIENCE  19974 non-null  float64\n",
      " 7   NUM_COURSES_BEGINNER_BACKEND      19982 non-null  float64\n",
      " 8   NUM_COURSES_BEGINNER_FRONTEND     19961 non-null  float64\n",
      " 9   NUM_COURSES_ADVANCED_DATASCIENCE  19998 non-null  float64\n",
      " 10  NUM_COURSES_ADVANCED_BACKEND      19992 non-null  float64\n",
      " 11  NUM_COURSES_ADVANCED_FRONTEND     19963 non-null  float64\n",
      " 12  AVG_SCORE_DATASCIENCE             19780 non-null  float64\n",
      " 13  AVG_SCORE_BACKEND                 19916 non-null  float64\n",
      " 14  AVG_SCORE_FRONTEND                19832 non-null  float64\n",
      " 15  PROFILE                           20000 non-null  object \n",
      "dtypes: float64(12), int64(2), object(2)\n",
      "memory usage: 2.3+ MB\n"
     ]
    }
   ],
   "source": [
    "df_training_dataset.info()"
   ]
  },
  {
   "cell_type": "markdown",
   "metadata": {},
   "source": [
    "### Visualización (visualizations)\n",
    "\n",
    "Para ver el conjunto de datos suministrado, podemos usar las bibliotecas ``matplotlib`` y ``seaborn``:"
   ]
  },
  {
   "cell_type": "code",
   "execution_count": 8,
   "metadata": {},
   "outputs": [],
   "source": [
    "# magic function para mostrar los graficos de matplotlib sin llamar al metodo .show()\n",
    "%matplotlib inline "
   ]
  },
  {
   "cell_type": "markdown",
   "metadata": {},
   "source": [
    "Graficas de distribucion de cada columna para tener una primera visualización de los datos. \n",
    "Se utiliza el metodo .dropna() para remover los datos nulos y poder correr la grafica"
   ]
  },
  {
   "cell_type": "code",
   "execution_count": 13,
   "metadata": {},
   "outputs": [
    {
     "data": {
      "text/plain": [
       "<AxesSubplot:xlabel='HOURS_FRONTEND', ylabel='Count'>"
      ]
     },
     "execution_count": 13,
     "metadata": {},
     "output_type": "execute_result"
    },
    {
     "data": {
      "image/png": "[encoded data removed]",
      "text/plain": [
       "<Figure size 2016x288 with 3 Axes>"
      ]
     },
     "metadata": {
      "needs_background": "light"
     },
     "output_type": "display_data"
    }
   ],
   "source": [
    "#para realizar estas graficas usamos matplotlib y seaborn\n",
    "#declaramos dos objetos, fig y axes, utilizando el metodo subplots, para graficar 3 figuras en una misma visualización\n",
    "fig, axes = plt.subplots(nrows=1, ncols=3, figsize=(28, 4))\n",
    "\n",
    "sns.histplot(df_training_dataset['HOURS_DATASCIENCE'].dropna(), ax=axes[0])\n",
    "sns.histplot(df_training_dataset['HOURS_BACKEND'].dropna(), ax=axes[1])\n",
    "sns.histplot(df_training_dataset['HOURS_FRONTEND'].dropna(), ax=axes[2])"
   ]
  },
  {
   "cell_type": "code",
   "execution_count": 14,
   "metadata": {},
   "outputs": [
    {
     "data": {
      "text/plain": [
       "<AxesSubplot:xlabel='NUM_COURSES_ADVANCED_FRONTEND', ylabel='Count'>"
      ]
     },
     "execution_count": 14,
     "metadata": {},
     "output_type": "execute_result"
    },
    {
     "data": {
      "image/png": "[encoded data removed]",
      "text/plain": [
       "<Figure size 2016x288 with 6 Axes>"
      ]
     },
     "metadata": {
      "needs_background": "light"
     },
     "output_type": "display_data"
    }
   ],
   "source": [
    "fig, axes = plt.subplots(nrows=2, ncols=3, figsize=(28, 4))\n",
    "\n",
    "sns.histplot(df_training_dataset['NUM_COURSES_BEGINNER_DATASCIENCE'].dropna(), ax=axes[0][0])\n",
    "sns.histplot(df_training_dataset['NUM_COURSES_BEGINNER_BACKEND'].dropna(), ax=axes[0][1])\n",
    "sns.histplot(df_training_dataset['NUM_COURSES_BEGINNER_FRONTEND'].dropna(), ax=axes[0][2])\n",
    "sns.histplot(df_training_dataset['NUM_COURSES_ADVANCED_DATASCIENCE'].dropna(), ax=axes[1][0])\n",
    "sns.histplot(df_training_dataset['NUM_COURSES_ADVANCED_BACKEND'].dropna(), ax=axes[1][1])\n",
    "sns.histplot(df_training_dataset['NUM_COURSES_ADVANCED_FRONTEND'].dropna(), ax=axes[1][2])"
   ]
  },
  {
   "cell_type": "code",
   "execution_count": 15,
   "metadata": {},
   "outputs": [
    {
     "data": {
      "text/plain": [
       "<AxesSubplot:xlabel='AVG_SCORE_FRONTEND', ylabel='Count'>"
      ]
     },
     "execution_count": 15,
     "metadata": {},
     "output_type": "execute_result"
    },
    {
     "data": {
      "image/png": "[encoded data removed]",
      "text/plain": [
       "<Figure size 2016x288 with 3 Axes>"
      ]
     },
     "metadata": {
      "needs_background": "light"
     },
     "output_type": "display_data"
    }
   ],
   "source": [
    "fig, axes = plt.subplots(nrows=1, ncols=3, figsize=(28, 4))\n",
    "\n",
    "sns.histplot(df_training_dataset['AVG_SCORE_DATASCIENCE'].dropna(), ax=axes[0])\n",
    "sns.histplot(df_training_dataset['AVG_SCORE_BACKEND'].dropna(), ax=axes[1])\n",
    "sns.histplot(df_training_dataset['AVG_SCORE_FRONTEND'].dropna(), ax=axes[2])"
   ]
  },
  {
   "cell_type": "code",
   "execution_count": 21,
   "metadata": {},
   "outputs": [
    {
     "data": {
      "text/plain": [
       "<AxesSubplot:xlabel='PROFILE', ylabel='count'>"
      ]
     },
     "execution_count": 21,
     "metadata": {},
     "output_type": "execute_result"
    },
    {
     "data": {
      "image/png": "[encoded data removed]",
      "text/plain": [
       "<Figure size 432x288 with 1 Axes>"
      ]
     },
     "metadata": {
      "needs_background": "light"
     },
     "output_type": "display_data"
    }
   ],
   "source": [
    "#grafica de conteo de categorios en la columna profile, para saber si las categorias están balanceadas en el dataframe\n",
    "\n",
    "sns.countplot(x='PROFILE', data=df_training_dataset)"
   ]
  },
  {
   "cell_type": "code",
   "execution_count": 22,
   "metadata": {},
   "outputs": [
    {
     "name": "stderr",
     "output_type": "stream",
     "text": [
      "c:\\users\\luis marquez\\appdata\\local\\programs\\python\\python38-32\\lib\\site-packages\\seaborn\\_decorators.py:36: FutureWarning: Pass the following variable as a keyword arg: x. From version 0.12, the only valid positional argument will be `data`, and passing other arguments without an explicit keyword will result in an error or misinterpretation.\n",
      "  warnings.warn(\n"
     ]
    },
    {
     "data": {
      "image/png": "[encoded data removed]",
      "text/plain": [
       "<Figure size 432x288 with 1 Axes>"
      ]
     },
     "metadata": {
      "needs_background": "light"
     },
     "output_type": "display_data"
    }
   ],
   "source": [
    "# grafica de caja, en la cual se pueden visualizar si existen Outliers, que son puntos de la muestra que estan muy alejados del 75% de ella, los cuales pueden interferir con el modelo de predicción\n",
    "fig = plt.plot(figsize=(28, 4))\n",
    "\n",
    "sns.boxplot(df_training_dataset['HOURS_DATASCIENCE'].dropna())\n",
    "plt.show()"
   ]
  },
  {
   "cell_type": "code",
   "execution_count": 23,
   "metadata": {},
   "outputs": [
    {
     "name": "stdout",
     "output_type": "stream",
     "text": [
      "Feature: 0, Score: 0.02723\n",
      "Feature: 1, Score: 0.02702\n",
      "Feature: 2, Score: 0.09503\n",
      "Feature: 3, Score: 0.09839\n",
      "Feature: 4, Score: 0.08731\n",
      "Feature: 5, Score: 0.06314\n",
      "Feature: 6, Score: 0.07518\n",
      "Feature: 7, Score: 0.07456\n",
      "Feature: 8, Score: 0.05794\n",
      "Feature: 9, Score: 0.07219\n",
      "Feature: 10, Score: 0.06517\n",
      "Feature: 11, Score: 0.09198\n",
      "Feature: 12, Score: 0.07405\n",
      "Feature: 13, Score: 0.09082\n"
     ]
    },
    {
     "data": {
      "image/png": "[encoded data removed]",
      "text/plain": [
       "<Figure size 432x288 with 1 Axes>"
      ]
     },
     "metadata": {
      "needs_background": "light"
     },
     "output_type": "display_data"
    }
   ],
   "source": [
    "#En esta celda hacemos un analisis exploratorio sobre el feature importance arrojado de un modelo random forest classifier\n",
    "from sklearn.ensemble import RandomForestClassifier\n",
    "model = RandomForestClassifier(n_estimators=200)\n",
    "df_training_dataset2 = df_training_dataset.dropna(inplace = False)\n",
    "#fit the model\n",
    "model.fit(df_training_dataset2[['Unnamed: 0', 'USER_ID', 'HOURS_DATASCIENCE', 'HOURS_BACKEND',\n",
    "       'HOURS_FRONTEND', 'NUM_COURSES_BEGINNER_DATASCIENCE',\n",
    "       'NUM_COURSES_BEGINNER_BACKEND', 'NUM_COURSES_BEGINNER_FRONTEND',\n",
    "       'NUM_COURSES_ADVANCED_DATASCIENCE', 'NUM_COURSES_ADVANCED_BACKEND',\n",
    "       'NUM_COURSES_ADVANCED_FRONTEND', 'AVG_SCORE_DATASCIENCE',\n",
    "       'AVG_SCORE_BACKEND', 'AVG_SCORE_FRONTEND']], df_training_dataset2['PROFILE'])\n",
    "\n",
    "#el modelo utilizado cuenta con un metodo que devuelve una lista con la importancia relativa de cada feature sobre el modelo de clasificación construido\n",
    "importance = model.feature_importances_\n",
    "# summarize feature importance\n",
    "for i,v in enumerate(importance):\n",
    "\tprint('Feature: %0d, Score: %.5f' % (i,v))\n",
    "# plot feature importance\n",
    "plt.bar([x for x in range(len(importance))], importance)\n",
    "plt.show()"
   ]
  },
  {
   "cell_type": "markdown",
   "metadata": {},
   "source": [
    "### Preprocesamiento de datos"
   ]
  },
  {
   "cell_type": "markdown",
   "metadata": {},
   "source": [
    "Luego de haber visualizado los datos, y obtenido la información necesaria para hacer nuestras hipotesis sobre\n",
    "los datos,pasaremos a hacer los procesamientos adecuados para transformar el dataframe y adecuarlo al modelo que elegirmeos mas adelante, para eso vamos a utilizar de igual manera parte del codigo generado por IBM junto a las modificaciones que le he añadido."
   ]
  },
  {
   "cell_type": "code",
   "execution_count": 24,
   "metadata": {},
   "outputs": [],
   "source": [
    "#transformación personalizada de sklearn, IBM la incluía como parte del codigo necesario para realizar un pipeline de los procesos\n",
    "#en la ultima version del desafio no era completamente necesario usar el pipeline pero igual usé la transformación ya creada\n",
    "\n",
    "#para las transformaciones personalizadas de sklearn se debe importar lo siguiente\n",
    "from sklearn.base import BaseEstimator, TransformerMixin\n",
    "\n",
    "\n",
    "#todas las transformaciones de sklear deben tener los metodos fit y transform, que es la forma de operar sobre los objetos\n",
    "#se instancia una clase con el nombre DropColumns con argumentos (BaseEstimator, TransformerMixin)\n",
    "class DropColumns(BaseEstimator, TransformerMixin):\n",
    "    #se define el metodo __init__ con sus respectivos argumentos, siendo columns el que pasaremos al instanciar el objeto.\n",
    "    def __init__(self, columns):\n",
    "        self.columns = columns\n",
    "    #Se define el metodo fit, que en este caso no lleva ningun codigo sobre el pero es condicion para que la transformación funcione sin problemas\n",
    "    def fit(self, X, y=None):\n",
    "        return self\n",
    "    #definimos el metodo transform sobre el cual haremos la transformacion para eliminar columnas. como argumento usamos \"X\" el cual al llamar el metodo pasaremos el dataframe como argumento\n",
    "    def transform(self, X):\n",
    "        # Primero copiamos el dataframe de datos de entrada 'X'\n",
    "        data = X.copy()\n",
    "        # Devolvemos un nuevo dataframe de datos sin las columnas no deseadas usando el metodo drop de pandas dataframes\n",
    "        return data.drop(labels=self.columns, axis='columns')"
   ]
  },
  {
   "cell_type": "code",
   "execution_count": 36,
   "metadata": {},
   "outputs": [],
   "source": [
    "#definimos otra transformación personalizada, esta vez es una para detectar y remover Outliers en nuestro conjunto de datos\n",
    "#igual que la anterior definimos la clase y sus argumentos junto a los metodos fit y transform\n",
    "class OutlierExtractor(BaseEstimator, TransformerMixin):\n",
    "    def __init__(self):\n",
    "        print('init')\n",
    "    #en este caso pasamos como argumentos X y Y ya que necesitmaos eliminar las filas completas asi que hay que eliminar los outliers tanto de los features como del target para mantener el numero de filas iguales\n",
    "    def fit(self, X, Y):\n",
    "        return self\n",
    "\n",
    "    def transform(self, X, Y):\n",
    "        # Primero copiamos el dataframe de datos de entrada 'X' y el de objetivo \"Y\"\n",
    "        X2 = X.to_numpy()\n",
    "        Y2 = Y.to_numpy()\n",
    "        print(X2.shape)\n",
    "        #utilizamos un IsolationForest de sklearn para hacer una seleccion de los datos que se ajusten dentro de una distribucion dejando por fuera los outliers\n",
    "        iso = IsolationForest(n_estimators=200,contamination=0.3,random_state=42)\n",
    "        #definimos yhat como las predicciones del objeto iso sobre el dataframe\n",
    "        yhat = iso.fit_predict(X)\n",
    "        #definimos mask como una lista que itera sobre yhat dejando solo los valores distintos de -1 el cual es el valor de outlier otorgado por las predicciones de iso\n",
    "        mask = yhat != -1\n",
    "        #con la lista mask procedemos a guardar X y Y en nuevas variables con solo los indices de fila que estan presentes en mask\n",
    "        X2, Y2 = X2[mask, :], Y2[mask]\n",
    "        #imprimimos el shape de x2 y y2 para saber si tienen igual numero de filas\n",
    "        print(X2.shape)\n",
    "        print(Y2.shape)\n",
    "        #reestructuramos X2 como un dataframe\n",
    "        X_train2 = pd.DataFrame.from_records(data=X2,columns=X.columns)\n",
    "        Y_train2 = Y2\n",
    "        #retornamos tanto los features como el target con los outliers eliminados\n",
    "        return (X_train2, Y_train2)"
   ]
  },
  {
   "cell_type": "code",
   "execution_count": 26,
   "metadata": {},
   "outputs": [
    {
     "data": {
      "text/plain": [
       "Index(['Unnamed: 0', 'NAME', 'USER_ID', 'HOURS_DATASCIENCE', 'HOURS_BACKEND',\n",
       "       'HOURS_FRONTEND', 'NUM_COURSES_BEGINNER_DATASCIENCE',\n",
       "       'NUM_COURSES_BEGINNER_BACKEND', 'NUM_COURSES_BEGINNER_FRONTEND',\n",
       "       'NUM_COURSES_ADVANCED_DATASCIENCE', 'NUM_COURSES_ADVANCED_BACKEND',\n",
       "       'NUM_COURSES_ADVANCED_FRONTEND', 'AVG_SCORE_DATASCIENCE',\n",
       "       'AVG_SCORE_BACKEND', 'AVG_SCORE_FRONTEND', 'PROFILE'],\n",
       "      dtype='object')"
      ]
     },
     "execution_count": 26,
     "metadata": {},
     "output_type": "execute_result"
    }
   ],
   "source": [
    "df_training_dataset.columns"
   ]
  },
  {
   "cell_type": "code",
   "execution_count": 27,
   "metadata": {},
   "outputs": [
    {
     "name": "stdout",
     "output_type": "stream",
     "text": [
      "DropColumns(columns=['NAME', 'Unnamed: 0', 'USER_ID'])\n"
     ]
    }
   ],
   "source": [
    "# Creación de instancias de una transformación DropColumns\n",
    "#eliminamos las columnas name, unnamed y user id porque no aportan informacion al modelo, en el Feature Importance se vio que ambas no aportaban mucho al modelo\n",
    "\n",
    "rm_columns = DropColumns(\n",
    "    columns=[\"NAME\", \"Unnamed: 0\",'USER_ID']  # Esta transformación toma como parámetro una lista con los nombres de las columnas no deseadas\n",
    ")\n",
    "\n",
    "print(rm_columns)"
   ]
  },
  {
   "cell_type": "code",
   "execution_count": 28,
   "metadata": {},
   "outputs": [
    {
     "name": "stdout",
     "output_type": "stream",
     "text": [
      "Columnas del conjunto de datos original: \n",
      "\n",
      "Index(['Unnamed: 0', 'NAME', 'USER_ID', 'HOURS_DATASCIENCE', 'HOURS_BACKEND',\n",
      "       'HOURS_FRONTEND', 'NUM_COURSES_BEGINNER_DATASCIENCE',\n",
      "       'NUM_COURSES_BEGINNER_BACKEND', 'NUM_COURSES_BEGINNER_FRONTEND',\n",
      "       'NUM_COURSES_ADVANCED_DATASCIENCE', 'NUM_COURSES_ADVANCED_BACKEND',\n",
      "       'NUM_COURSES_ADVANCED_FRONTEND', 'AVG_SCORE_DATASCIENCE',\n",
      "       'AVG_SCORE_BACKEND', 'AVG_SCORE_FRONTEND', 'PROFILE'],\n",
      "      dtype='object')\n"
     ]
    }
   ],
   "source": [
    "# Ver las columnas del conjunto de datos original\n",
    "print(\"Columnas del conjunto de datos original: \\n\")\n",
    "print(df_training_dataset.columns)"
   ]
  },
  {
   "cell_type": "code",
   "execution_count": 29,
   "metadata": {},
   "outputs": [],
   "source": [
    "# Aplicar la transformación ``DropColumns`` al conjunto de datos base\n",
    "rm_columns.fit(X=df_training_dataset)\n",
    "\n",
    "# Reconstruyendo un DataFrame de Pandas con el resultado de la transformación\n",
    "df_training_dataset_2 = pd.DataFrame.from_records(\n",
    "    data=rm_columns.transform(\n",
    "        X=df_training_dataset\n",
    "    ),\n",
    ")"
   ]
  },
  {
   "cell_type": "code",
   "execution_count": 30,
   "metadata": {},
   "outputs": [
    {
     "name": "stdout",
     "output_type": "stream",
     "text": [
      "Columnas del conjunto de datos después de la transformación ``DropColumns``: \n",
      "\n",
      "Index(['HOURS_DATASCIENCE', 'HOURS_BACKEND', 'HOURS_FRONTEND',\n",
      "       'NUM_COURSES_BEGINNER_DATASCIENCE', 'NUM_COURSES_BEGINNER_BACKEND',\n",
      "       'NUM_COURSES_BEGINNER_FRONTEND', 'NUM_COURSES_ADVANCED_DATASCIENCE',\n",
      "       'NUM_COURSES_ADVANCED_BACKEND', 'NUM_COURSES_ADVANCED_FRONTEND',\n",
      "       'AVG_SCORE_DATASCIENCE', 'AVG_SCORE_BACKEND', 'AVG_SCORE_FRONTEND',\n",
      "       'PROFILE'],\n",
      "      dtype='object')\n"
     ]
    }
   ],
   "source": [
    "# Ver las columnas del conjunto de datos transformado\n",
    "print(\"Columnas del conjunto de datos después de la transformación ``DropColumns``: \\n\")\n",
    "print(df_training_dataset_2.columns)"
   ]
  },
  {
   "cell_type": "markdown",
   "metadata": {},
   "source": [
    "Otra transformacion que haremos es la de reemplazar los datos nulos o faltantes del DataFrame, usaremos una transformación lista para usar de la biblioteca scikit-learn, llamada **SimpleImputer**.\n",
    "\n",
    "Esta transformación permite varias estrategias para el tratamiento de datos faltantes. La documentación oficial se puede encontrar en: https://scikit-learn.org/stable/modules/generated/sklearn.impute.SimpleImputer.html"
   ]
  },
  {
   "cell_type": "code",
   "execution_count": 31,
   "metadata": {},
   "outputs": [],
   "source": [
    "# Crear un objeto ``SimpleImputer``\n",
    "si = SimpleImputer(\n",
    "    missing_values=np.nan,  # los valores que faltan son del tipo ``np.nan`` (Pandas estándar)\n",
    "    strategy='mean',  # la estrategia elegida es cambiar el valor faltante por la media de cada columna de datos\n",
    "    verbose=0,\n",
    "    copy=True\n",
    ")"
   ]
  },
  {
   "cell_type": "markdown",
   "metadata": {},
   "source": [
    "### Entrenando un modelo de clasificación"
   ]
  },
  {
   "cell_type": "markdown",
   "metadata": {},
   "source": [
    "Una vez finalizado el preprocesamiento, ya tenemos el conjunto de datos en el formato necesario para entrenar nuestro modelo:\n",
    "Hay tres transformaciones que haremos pero necesitamos primero separar el Dataframe en Features y Target"
   ]
  },
  {
   "cell_type": "markdown",
   "metadata": {},
   "source": [
    "#### Definición de features del modelo"
   ]
  },
  {
   "cell_type": "code",
   "execution_count": 38,
   "metadata": {},
   "outputs": [],
   "source": [
    "# Definición de las columnas que seran features\n",
    "features = [\n",
    "    \"HOURS_DATASCIENCE\", \"HOURS_BACKEND\", \"HOURS_FRONTEND\",\n",
    "    \"NUM_COURSES_BEGINNER_DATASCIENCE\", \"NUM_COURSES_BEGINNER_BACKEND\", \"NUM_COURSES_BEGINNER_FRONTEND\",\n",
    "    \"NUM_COURSES_ADVANCED_DATASCIENCE\", \"NUM_COURSES_ADVANCED_BACKEND\", \"NUM_COURSES_ADVANCED_FRONTEND\",\n",
    "    \"AVG_SCORE_DATASCIENCE\", \"AVG_SCORE_BACKEND\", \"AVG_SCORE_FRONTEND\"\n",
    "]\n",
    "\n",
    "# Definición de variable objetivo o Target\n",
    "target = ['PROFILE']\n",
    "\n",
    "# Preparación de los argumentos para los métodos de la biblioteca ``scikit-learn``\n",
    "X = df_training_dataset_2[features]\n",
    "y = df_training_dataset_2[target]"
   ]
  },
  {
   "cell_type": "code",
   "execution_count": 39,
   "metadata": {},
   "outputs": [],
   "source": [
    "#la primera transformacion luego de separar los datos es el Simple Imputer\n",
    "\n",
    "si.fit(X=X)\n",
    "\n",
    "# Reconstrucción de un nuevo DataFrame de Pandas con el conjunto imputado (df_data_3)\n",
    "X = pd.DataFrame.from_records(\n",
    "    data=si.transform(\n",
    "        X=X\n",
    "    ),  # el resultado SimpleImputer.transform (<< pandas dataframe >>) es lista lista\n",
    "    columns=features  # las columnas originales deben conservarse en esta transformación\n",
    ")\n"
   ]
  },
  {
   "cell_type": "code",
   "execution_count": 40,
   "metadata": {},
   "outputs": [
    {
     "name": "stdout",
     "output_type": "stream",
     "text": [
      "init\n",
      "(20000, 12)\n",
      "(14000, 12)\n",
      "(14000, 1)\n"
     ]
    }
   ],
   "source": [
    "#la segunda transformacion es el OutLierExtractor que ya definimos antes\n",
    "\n",
    "outlier = OutlierExtractor()\n",
    "outlier.fit(X=X, Y=y)\n",
    "X, y = outlier.transform(X=X , Y=y)"
   ]
  },
  {
   "cell_type": "code",
   "execution_count": 41,
   "metadata": {},
   "outputs": [],
   "source": [
    "#la tercera transformacion es escalar todas las columnas para que esten en el mismo orden de magnitug, para eso utilizamos el objeto RobustScaler de sklearn\n",
    "#hay muchas formas de hacer este proceso, y muchos rangos, en este se normaliza, llevandolo a una distribucion normal con media 0 y varianza 1. pero se puede utilizar otros metodos que escalan los datos en otros rangos de valores.\n",
    "#el uso de esta transformacion se debe a que elimina un poco el sesgo que se puede crear cuando el modelo se esta construyendo ya que éste puede tomar como mas importantes las variables que tengan mayor orden de magnitud. En este caso usamos un RandomForest que segun la documentacion no se ve muy afectado por este tipo de sesgos pero de igual forma hacemos la transformacion\n",
    "sc = RobustScaler()\n",
    "X = pd.DataFrame.from_records(\n",
    "    data=sc.fit_transform(X),  # el resultado SimpleImputer.transform (<< pandas dataframe >>) es lista lista\n",
    "    columns=features  # las columnas originales deben conservarse en esta transformación\n",
    ")\n"
   ]
  },
  {
   "cell_type": "markdown",
   "metadata": {},
   "source": [
    "El conjunto de entrada (X):"
   ]
  },
  {
   "cell_type": "code",
   "execution_count": 42,
   "metadata": {},
   "outputs": [
    {
     "data": {
      "text/html": [
       "<div>\n",
       "<style scoped>\n",
       "    .dataframe tbody tr th:only-of-type {\n",
       "        vertical-align: middle;\n",
       "    }\n",
       "\n",
       "    .dataframe tbody tr th {\n",
       "        vertical-align: top;\n",
       "    }\n",
       "\n",
       "    .dataframe thead th {\n",
       "        text-align: right;\n",
       "    }\n",
       "</style>\n",
       "<table border=\"1\" class=\"dataframe\">\n",
       "  <thead>\n",
       "    <tr style=\"text-align: right;\">\n",
       "      <th></th>\n",
       "      <th>HOURS_DATASCIENCE</th>\n",
       "      <th>HOURS_BACKEND</th>\n",
       "      <th>HOURS_FRONTEND</th>\n",
       "      <th>NUM_COURSES_BEGINNER_DATASCIENCE</th>\n",
       "      <th>NUM_COURSES_BEGINNER_BACKEND</th>\n",
       "      <th>NUM_COURSES_BEGINNER_FRONTEND</th>\n",
       "      <th>NUM_COURSES_ADVANCED_DATASCIENCE</th>\n",
       "      <th>NUM_COURSES_ADVANCED_BACKEND</th>\n",
       "      <th>NUM_COURSES_ADVANCED_FRONTEND</th>\n",
       "      <th>AVG_SCORE_DATASCIENCE</th>\n",
       "      <th>AVG_SCORE_BACKEND</th>\n",
       "      <th>AVG_SCORE_FRONTEND</th>\n",
       "    </tr>\n",
       "  </thead>\n",
       "  <tbody>\n",
       "    <tr>\n",
       "      <th>0</th>\n",
       "      <td>-1.107143</td>\n",
       "      <td>-0.168602</td>\n",
       "      <td>-0.296296</td>\n",
       "      <td>-0.666667</td>\n",
       "      <td>0.0</td>\n",
       "      <td>-2.0</td>\n",
       "      <td>-0.333333</td>\n",
       "      <td>0.333333</td>\n",
       "      <td>-1.5</td>\n",
       "      <td>1.187500</td>\n",
       "      <td>0.411765</td>\n",
       "      <td>0.000000</td>\n",
       "    </tr>\n",
       "    <tr>\n",
       "      <th>1</th>\n",
       "      <td>-0.071429</td>\n",
       "      <td>-0.909343</td>\n",
       "      <td>-0.333333</td>\n",
       "      <td>-1.333333</td>\n",
       "      <td>0.5</td>\n",
       "      <td>1.5</td>\n",
       "      <td>-1.000000</td>\n",
       "      <td>0.333333</td>\n",
       "      <td>0.0</td>\n",
       "      <td>0.004395</td>\n",
       "      <td>0.235294</td>\n",
       "      <td>1.286427</td>\n",
       "    </tr>\n",
       "    <tr>\n",
       "      <th>2</th>\n",
       "      <td>-0.500000</td>\n",
       "      <td>0.942509</td>\n",
       "      <td>1.148148</td>\n",
       "      <td>-0.333333</td>\n",
       "      <td>1.5</td>\n",
       "      <td>-2.0</td>\n",
       "      <td>0.333333</td>\n",
       "      <td>0.333333</td>\n",
       "      <td>-1.5</td>\n",
       "      <td>0.062500</td>\n",
       "      <td>0.470588</td>\n",
       "      <td>0.000000</td>\n",
       "    </tr>\n",
       "    <tr>\n",
       "      <th>3</th>\n",
       "      <td>-1.357143</td>\n",
       "      <td>-0.057491</td>\n",
       "      <td>-0.888889</td>\n",
       "      <td>-1.333333</td>\n",
       "      <td>0.5</td>\n",
       "      <td>0.5</td>\n",
       "      <td>-1.000000</td>\n",
       "      <td>0.333333</td>\n",
       "      <td>0.0</td>\n",
       "      <td>0.004395</td>\n",
       "      <td>0.411765</td>\n",
       "      <td>-0.007691</td>\n",
       "    </tr>\n",
       "    <tr>\n",
       "      <th>4</th>\n",
       "      <td>0.071429</td>\n",
       "      <td>-0.872306</td>\n",
       "      <td>-0.111111</td>\n",
       "      <td>-1.333333</td>\n",
       "      <td>0.5</td>\n",
       "      <td>-1.0</td>\n",
       "      <td>-1.000000</td>\n",
       "      <td>1.000000</td>\n",
       "      <td>-1.5</td>\n",
       "      <td>0.004395</td>\n",
       "      <td>-0.823529</td>\n",
       "      <td>-0.125338</td>\n",
       "    </tr>\n",
       "  </tbody>\n",
       "</table>\n",
       "</div>"
      ],
      "text/plain": [
       "   HOURS_DATASCIENCE  HOURS_BACKEND  HOURS_FRONTEND  \\\n",
       "0          -1.107143      -0.168602       -0.296296   \n",
       "1          -0.071429      -0.909343       -0.333333   \n",
       "2          -0.500000       0.942509        1.148148   \n",
       "3          -1.357143      -0.057491       -0.888889   \n",
       "4           0.071429      -0.872306       -0.111111   \n",
       "\n",
       "   NUM_COURSES_BEGINNER_DATASCIENCE  NUM_COURSES_BEGINNER_BACKEND  \\\n",
       "0                         -0.666667                           0.0   \n",
       "1                         -1.333333                           0.5   \n",
       "2                         -0.333333                           1.5   \n",
       "3                         -1.333333                           0.5   \n",
       "4                         -1.333333                           0.5   \n",
       "\n",
       "   NUM_COURSES_BEGINNER_FRONTEND  NUM_COURSES_ADVANCED_DATASCIENCE  \\\n",
       "0                           -2.0                         -0.333333   \n",
       "1                            1.5                         -1.000000   \n",
       "2                           -2.0                          0.333333   \n",
       "3                            0.5                         -1.000000   \n",
       "4                           -1.0                         -1.000000   \n",
       "\n",
       "   NUM_COURSES_ADVANCED_BACKEND  NUM_COURSES_ADVANCED_FRONTEND  \\\n",
       "0                      0.333333                           -1.5   \n",
       "1                      0.333333                            0.0   \n",
       "2                      0.333333                           -1.5   \n",
       "3                      0.333333                            0.0   \n",
       "4                      1.000000                           -1.5   \n",
       "\n",
       "   AVG_SCORE_DATASCIENCE  AVG_SCORE_BACKEND  AVG_SCORE_FRONTEND  \n",
       "0               1.187500           0.411765            0.000000  \n",
       "1               0.004395           0.235294            1.286427  \n",
       "2               0.062500           0.470588            0.000000  \n",
       "3               0.004395           0.411765           -0.007691  \n",
       "4               0.004395          -0.823529           -0.125338  "
      ]
     },
     "execution_count": 42,
     "metadata": {},
     "output_type": "execute_result"
    }
   ],
   "source": [
    "X.head()"
   ]
  },
  {
   "cell_type": "markdown",
   "metadata": {},
   "source": [
    "La variable objetivo (y):"
   ]
  },
  {
   "cell_type": "code",
   "execution_count": 43,
   "metadata": {},
   "outputs": [
    {
     "data": {
      "text/plain": [
       "array([['beginner_front_end'],\n",
       "       ['beginner_data_science'],\n",
       "       ['advanced_front_end'],\n",
       "       ...,\n",
       "       ['advanced_backend'],\n",
       "       ['advanced_front_end'],\n",
       "       ['advanced_data_science']], dtype=object)"
      ]
     },
     "execution_count": 43,
     "metadata": {},
     "output_type": "execute_result"
    }
   ],
   "source": [
    "y"
   ]
  },
  {
   "cell_type": "markdown",
   "metadata": {},
   "source": [
    "#### Separar el conjunto de datos en un conjunto de entrenamiento y un conjunto de prueba"
   ]
  },
  {
   "cell_type": "markdown",
   "metadata": {},
   "source": [
    "Separaremos el conjunto de datos provisto en dos grupos: uno para entrenar nuestro modelo y otro para probar el resultado a través de una prueba ciega. La separación del conjunto de datos se puede hacer fácilmente con el método *train_test_split ()* de scikit-learn:"
   ]
  },
  {
   "cell_type": "code",
   "execution_count": 44,
   "metadata": {},
   "outputs": [],
   "source": [
    "# Separación de datos en conjunto de entrenamiento y conjunto de pruebas\n",
    "X_train, X_test, y_train, y_test = train_test_split(X, y, test_size=0.3, random_state=337)"
   ]
  },
  {
   "cell_type": "markdown",
   "metadata": {},
   "source": [
    "#### Creando un modelo basado en un conjunto de árboles de decisión, llamado Ranfom Forest"
   ]
  },
  {
   "cell_type": "code",
   "execution_count": 45,
   "metadata": {},
   "outputs": [],
   "source": [
    "# Método para creacion de modelos basados Random Forest\n",
    "from sklearn.ensemble import RandomForestClassifier\n",
    "\n",
    "\n",
    "dtc = RandomForestClassifier(n_estimators=800, random_state=42 ).fit(X_train, y_train.ravel())\n"
   ]
  },
  {
   "cell_type": "code",
   "execution_count": 46,
   "metadata": {},
   "outputs": [],
   "source": [
    "# Realización de una prueba a ciegas en el modelo creado, donde pasamos como argumento el set de pruebas\n",
    "y_pred = dtc.predict(X_test)"
   ]
  },
  {
   "cell_type": "code",
   "execution_count": 47,
   "metadata": {},
   "outputs": [
    {
     "data": {
      "text/html": [
       "<div>\n",
       "<style scoped>\n",
       "    .dataframe tbody tr th:only-of-type {\n",
       "        vertical-align: middle;\n",
       "    }\n",
       "\n",
       "    .dataframe tbody tr th {\n",
       "        vertical-align: top;\n",
       "    }\n",
       "\n",
       "    .dataframe thead th {\n",
       "        text-align: right;\n",
       "    }\n",
       "</style>\n",
       "<table border=\"1\" class=\"dataframe\">\n",
       "  <thead>\n",
       "    <tr style=\"text-align: right;\">\n",
       "      <th></th>\n",
       "      <th>HOURS_DATASCIENCE</th>\n",
       "      <th>HOURS_BACKEND</th>\n",
       "      <th>HOURS_FRONTEND</th>\n",
       "      <th>NUM_COURSES_BEGINNER_DATASCIENCE</th>\n",
       "      <th>NUM_COURSES_BEGINNER_BACKEND</th>\n",
       "      <th>NUM_COURSES_BEGINNER_FRONTEND</th>\n",
       "      <th>NUM_COURSES_ADVANCED_DATASCIENCE</th>\n",
       "      <th>NUM_COURSES_ADVANCED_BACKEND</th>\n",
       "      <th>NUM_COURSES_ADVANCED_FRONTEND</th>\n",
       "      <th>AVG_SCORE_DATASCIENCE</th>\n",
       "      <th>AVG_SCORE_BACKEND</th>\n",
       "      <th>AVG_SCORE_FRONTEND</th>\n",
       "    </tr>\n",
       "  </thead>\n",
       "  <tbody>\n",
       "    <tr>\n",
       "      <th>3793</th>\n",
       "      <td>-0.321429</td>\n",
       "      <td>0.535101</td>\n",
       "      <td>-0.740741</td>\n",
       "      <td>0.333333</td>\n",
       "      <td>-0.5</td>\n",
       "      <td>1.500000</td>\n",
       "      <td>0.000000</td>\n",
       "      <td>1.000000</td>\n",
       "      <td>0.0</td>\n",
       "      <td>-0.8750</td>\n",
       "      <td>-0.058824</td>\n",
       "      <td>-0.478279</td>\n",
       "    </tr>\n",
       "    <tr>\n",
       "      <th>9485</th>\n",
       "      <td>0.250000</td>\n",
       "      <td>0.461027</td>\n",
       "      <td>-0.259259</td>\n",
       "      <td>0.000000</td>\n",
       "      <td>2.0</td>\n",
       "      <td>0.000000</td>\n",
       "      <td>1.000000</td>\n",
       "      <td>0.333333</td>\n",
       "      <td>-0.5</td>\n",
       "      <td>-0.3750</td>\n",
       "      <td>0.352941</td>\n",
       "      <td>-0.772397</td>\n",
       "    </tr>\n",
       "    <tr>\n",
       "      <th>6129</th>\n",
       "      <td>-0.178571</td>\n",
       "      <td>0.498064</td>\n",
       "      <td>-0.444444</td>\n",
       "      <td>0.000000</td>\n",
       "      <td>-2.0</td>\n",
       "      <td>-2.000000</td>\n",
       "      <td>0.000000</td>\n",
       "      <td>0.000000</td>\n",
       "      <td>1.0</td>\n",
       "      <td>-0.8125</td>\n",
       "      <td>0.294118</td>\n",
       "      <td>0.992309</td>\n",
       "    </tr>\n",
       "    <tr>\n",
       "      <th>1003</th>\n",
       "      <td>-0.428571</td>\n",
       "      <td>-0.168602</td>\n",
       "      <td>-0.148148</td>\n",
       "      <td>0.000000</td>\n",
       "      <td>0.5</td>\n",
       "      <td>0.000000</td>\n",
       "      <td>0.666667</td>\n",
       "      <td>-0.333333</td>\n",
       "      <td>2.0</td>\n",
       "      <td>0.6250</td>\n",
       "      <td>1.411765</td>\n",
       "      <td>0.462897</td>\n",
       "    </tr>\n",
       "    <tr>\n",
       "      <th>5727</th>\n",
       "      <td>0.178571</td>\n",
       "      <td>0.757324</td>\n",
       "      <td>1.074074</td>\n",
       "      <td>0.333333</td>\n",
       "      <td>1.0</td>\n",
       "      <td>0.024147</td>\n",
       "      <td>0.333333</td>\n",
       "      <td>-0.333333</td>\n",
       "      <td>-0.5</td>\n",
       "      <td>-1.0000</td>\n",
       "      <td>1.823529</td>\n",
       "      <td>0.404074</td>\n",
       "    </tr>\n",
       "  </tbody>\n",
       "</table>\n",
       "</div>"
      ],
      "text/plain": [
       "      HOURS_DATASCIENCE  HOURS_BACKEND  HOURS_FRONTEND  \\\n",
       "3793          -0.321429       0.535101       -0.740741   \n",
       "9485           0.250000       0.461027       -0.259259   \n",
       "6129          -0.178571       0.498064       -0.444444   \n",
       "1003          -0.428571      -0.168602       -0.148148   \n",
       "5727           0.178571       0.757324        1.074074   \n",
       "\n",
       "      NUM_COURSES_BEGINNER_DATASCIENCE  NUM_COURSES_BEGINNER_BACKEND  \\\n",
       "3793                          0.333333                          -0.5   \n",
       "9485                          0.000000                           2.0   \n",
       "6129                          0.000000                          -2.0   \n",
       "1003                          0.000000                           0.5   \n",
       "5727                          0.333333                           1.0   \n",
       "\n",
       "      NUM_COURSES_BEGINNER_FRONTEND  NUM_COURSES_ADVANCED_DATASCIENCE  \\\n",
       "3793                       1.500000                          0.000000   \n",
       "9485                       0.000000                          1.000000   \n",
       "6129                      -2.000000                          0.000000   \n",
       "1003                       0.000000                          0.666667   \n",
       "5727                       0.024147                          0.333333   \n",
       "\n",
       "      NUM_COURSES_ADVANCED_BACKEND  NUM_COURSES_ADVANCED_FRONTEND  \\\n",
       "3793                      1.000000                            0.0   \n",
       "9485                      0.333333                           -0.5   \n",
       "6129                      0.000000                            1.0   \n",
       "1003                     -0.333333                            2.0   \n",
       "5727                     -0.333333                           -0.5   \n",
       "\n",
       "      AVG_SCORE_DATASCIENCE  AVG_SCORE_BACKEND  AVG_SCORE_FRONTEND  \n",
       "3793                -0.8750          -0.058824           -0.478279  \n",
       "9485                -0.3750           0.352941           -0.772397  \n",
       "6129                -0.8125           0.294118            0.992309  \n",
       "1003                 0.6250           1.411765            0.462897  \n",
       "5727                -1.0000           1.823529            0.404074  "
      ]
     },
     "execution_count": 47,
     "metadata": {},
     "output_type": "execute_result"
    }
   ],
   "source": [
    "X_test.head()"
   ]
  },
  {
   "cell_type": "code",
   "execution_count": 48,
   "metadata": {},
   "outputs": [
    {
     "name": "stdout",
     "output_type": "stream",
     "text": [
      "['advanced_data_science' 'advanced_front_end' 'beginner_backend' ...\n",
      " 'advanced_front_end' 'beginner_data_science' 'advanced_front_end']\n"
     ]
    }
   ],
   "source": [
    "print(y_pred)"
   ]
  },
  {
   "cell_type": "code",
   "execution_count": 49,
   "metadata": {},
   "outputs": [
    {
     "name": "stdout",
     "output_type": "stream",
     "text": [
      "Exactitud: 89.0%\n"
     ]
    }
   ],
   "source": [
    "from sklearn.metrics import accuracy_score\n",
    "\n",
    "# Precisión lograda por el árbol de decisiones, este mide la diferencia entre los valores predichos por el modelo y los reales que estan en el dataframe para ver la cantidad de error que pueda haber sobre esa determinada muestra\n",
    "print(\"Exactitud: {}%\".format(100*round(accuracy_score(y_test, y_pred), 2)))"
   ]
  },
  {
   "cell_type": "markdown",
   "metadata": {},
   "source": [
    "Esta exactitud nos dice que porcentaje de los valores de salida del modelo se corresponden con los reales del set de prueba\n",
    "un 89% es un valor medio-alto para un modelo, aunque esto depende mucho de cada caso particular.\n",
    "Valores muy altos de exactitud pueden derivar en Overfitting, que sucede cuando el modelo se ajusta demasiado al set de prueba\n",
    "lo que no es una buena practica ya que al hacer predicciones sobre datos no vistos, en producción, ese ovefitting puede generar\n",
    "errores y sesgos que hagan impreciso el modelo.\n",
    "y un valor muy bajo tampoco funciona ya que no estariamos prediciendo el comportamiento de la variable objetivo."
   ]
  },
  {
   "cell_type": "markdown",
   "metadata": {},
   "source": [
    "<hr>"
   ]
  },
  {
   "cell_type": "markdown",
   "metadata": {},
   "source": [
    "Luego de tener todo el modelo y sus transformaciones el Desafio proporcionaba otro dataset \n",
    "para ser evaluado por este modelo y añadirle las predicciones. sobre esa hoja se hicieron las evaluaciones.\n",
    "\n",
    "En casos de uso, se trabaja de la misma forma, teniendo el modelo entrenado se le puede alimentar con nuevos datos para\n",
    "obeter la prediccion de categoria que es lo que nos interesa. Por supuesto para cualquie nueva data que le sea ingresada\n",
    "se debe tener cuidado en que tenga la misma estructura que el dataframe de entrenamiento. utilizando las transformaciones de columnas y escala\n",
    "para que los resultados sean coherentes."
   ]
  },
  {
   "cell_type": "code",
   "execution_count": null,
   "metadata": {},
   "outputs": [],
   "source": []
  }
 ],
 "metadata": {
  "kernelspec": {
   "display_name": "Python 3",
   "language": "python",
   "name": "python3"
  },
  "language_info": {
   "codemirror_mode": {
    "name": "ipython",
    "version": 3
   },
   "file_extension": ".py",
   "mimetype": "text/x-python",
   "name": "python",
   "nbconvert_exporter": "python",
   "pygments_lexer": "ipython3",
   "version": "3.8.4"
  }
 },
 "nbformat": 4,
 "nbformat_minor": 1
}
